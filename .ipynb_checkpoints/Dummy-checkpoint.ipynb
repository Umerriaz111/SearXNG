{
 "cells": [
  {
   "cell_type": "code",
   "execution_count": 1,
   "id": "2a52a08d",
   "metadata": {},
   "outputs": [
    {
     "name": "stdout",
     "output_type": "stream",
     "text": [
      "{'search_term': 'Male Shows Under $10', 'knowledge_panel': None, 'results': [{'position': 1, 'url': 'https://www.amazon.com/Shoes-Under-10/s?k=Shoes+Under+%2410', 'title': 'Shoes Under $10 - Amazon.com', 'description': 'Canvas Tennis Shoes for Men Low Top Casual White Black Sneakers for Men Lace Up Fashion Comfortable Walking Shoes · 4.24.2 out of 5 stars (133). 50\\xa0...'}, {'position': 2, 'url': 'https://www.shoesensation.com/men/filter/price:10-20.html?srsltid=AfmBOorK8thXIYpvB2hJSH5KsCf2IXCSKLQyOmr9TeDE2RRg1D6FWgq1', 'title': \"$10.00 - $19.99 Men's Shoes, Sandals, and Boots | Shoe Sensation\", 'description': \"Our men's selection showcases a wide range of top brand name shoes for men, including Adidas, Birkenstock, Brooks, Crocs, Fila, HEYDUDE, New Balance,\\xa0...\"}, {'position': 3, 'url': 'https://www.kohls.com/catalog/under-10-mens-shoes.jsp?CN=Price:Under%20%2410+Gender:Mens+Department:Shoes', 'title': \"Under $10 Mens Shoes - Kohl's\", 'description': \"Enjoy free shipping and easy returns every day at Kohl's. Find great deals on Under $10 Mens Shoes at Kohl's today!\"}, {'position': 4, 'url': 'https://www.samsclub.com/b/shoes/1090111?rootDimension=price%3A%5B0%20TO%2010%5D', 'title': 'Shoes, Boots & Sandals for Men, Women & Kids Under $10', 'description': 'Shoes Under $10 · New Items in Shoes · Womens Shoes · Mens Shoes · Kids Shoes · Toddler Shoes. Prices may vary in club and online.'}, {'position': 5, 'url': 'https://www.dickssportinggoods.com/f/clearance-mens-footwear?srsltid=AfmBOoqHWcl6t-W79yFDzcHUz1-azjicHvlEb3Qqrvejr7lBKQGqm0dN', 'title': \"Clearance Men's Footwear - Shoes - DICK'S Sporting Goods\", 'description': \"Shop Clearance Men's Footwear at DICK'S Sporting Goods. If you find a lower price on Clearance Men's Footwear somewhere else, we'll match it with our Best\\xa0...\"}, {'position': 6, 'url': 'https://www.walmart.ca/en/ip/Men-Shoes-Sneakers-Clearance-Under-10-Men-s-Summer-Solid-Color-Thick-Bottom-Mesh-Breathable-Casual-Comfort-Fashion-Slippers-Male-Shoes-Black-9-5/66OBX0VIB6SI', 'title': \"Men Shoes Sneakers Clearance Under $10 Men's Summer Solid ...\", 'description': \"Men Shoes Sneakers Clearance Under $10 Men's Summer Solid Color Thick Bottom Mesh Breathable Sneakers Casual Comfort Fashion Slippers Male Shoes(Black,9.5).\"}, {'position': 7, 'url': 'https://www.dickssportinggoods.com/c/mens-footwear?srsltid=AfmBOopGN8pljaPsM7fjtLBYLaT5KptwmJqsMsqv4D1c1vdOOa2luzlk', 'title': \"Men's Shoes | Best Price at DICK'S\", 'description': \"Find great prices on men's footwear at DICK'S. If you find a lower price on men's shoes somewhere else, we'll match it with our Best Price Guarantee. Can't find\\xa0...\"}, {'position': 8, 'url': 'https://www.alibaba.com/showroom/latest-male-shoes.html', 'title': 'Trendy, Breathable & Comfortable latest male shoes - Alibaba.com', 'description': 'Hawaiian Style Fashion · Wholesale Fashion Latest Sport Wedge Slip On Walking Sneakers Male Casual Boys Men Shoes. $3.28-8.67. Min. order: 1 pair.'}, {'position': 9, 'url': 'https://www.heydude.com/collections/clearance-men', 'title': \"Men's shoes on Sale - HeyDude!\", 'description': \"Men's Sale ; Price. $5 - $10 (8). $20 - $30 (13) ; Product Type. Men's Boat Shoes (1). Men's Boots (11) ; Type of Fit. Relaxed Fit (89). Classic Fit (41).\"}, {'position': 10, 'url': 'https://hottix.org/shows/', 'title': 'Shows - Chicago - Hot Tix', 'description': 'Shows. 63 Half-Price Shows. Fun Home. Half-Price Tickets: $31.50 - $40. Dates From: Jan 23 - Jan 26. Porchlight Music Theatre at Ruth Page Center for the Arts.'}], 'related_keywords': {'spelling_suggestion_html': 'Male <sc>shoes</sc> Under $10', 'spelling_suggestion': 'Male shoes Under $10', 'keywords': [{'position': 1, 'knowledge': None, 'keyword_html': 'male<b> shoes </b>under<b> 1000</b>', 'keyword': 'male shoes under 1000'}, {'position': 2, 'knowledge': None, 'keyword_html': '<b>what are the best cheap shoes</b>', 'keyword': 'what are the best cheap shoes'}, {'position': 3, 'knowledge': None, 'keyword_html': \"<b>men's shoes at lowest price</b>\", 'keyword': \"men's shoes at lowest price\"}, {'position': 4, 'knowledge': None, 'keyword_html': '<b>mens shoes </b>under $10', 'keyword': 'mens shoes under $10'}, {'position': 5, 'knowledge': None, 'keyword_html': \"<b>men's shoes </b>under $10<b>0</b>\", 'keyword': \"men's shoes under $100\"}, {'position': 6, 'knowledge': None, 'keyword_html': \"<b>men's shoes </b>under<b> 100 dollars</b>\", 'keyword': \"men's shoes under 100 dollars\"}]}}\n"
     ]
    }
   ],
   "source": [
    "import requests\n",
    "\n",
    "url = \"https://google-search74.p.rapidapi.com/\"\n",
    "\n",
    "querystring = {\"query\":\"Male Shows Under $10\",\"limit\":\"10\",\"related_keywords\":\"true\"}\n",
    "\n",
    "headers = {\"x-rapidapi-key\": \"e0be983b3cmshe7a35b5e10ee3e7p1092a0jsn37ca2d1d1fc8\",\n",
    "\"x-rapidapi-host\": \"google-search74.p.rapidapi.com\"\n",
    "}\n",
    "\n",
    "response = requests.get(url, headers=headers, params=querystring)\n",
    "\n",
    "print(response.json())"
   ]
  },
  {
   "cell_type": "code",
   "execution_count": 2,
   "id": "b495a67f",
   "metadata": {},
   "outputs": [],
   "source": [
    "# Function to display data\n",
    "def display_results(data):\n",
    "    print(f\"Search Term: {data['search_term']}\\n\")\n",
    "    \n",
    "    # Display results\n",
    "    print(\"Results:\")\n",
    "    for result in data.get(\"results\", []):\n",
    "        print(f\"  Position: {result['position']}\")\n",
    "        print(f\"  Title: {result['title']}\")\n",
    "        print(f\"  URL: {result['url']}\")\n",
    "        print(f\"  Description: {result['description']}\\n\")\n",
    "    \n",
    "    # Display related keywords\n",
    "    print(\"Related Keywords:\")\n",
    "    for keyword in data.get(\"related_keywords\", {}).get(\"keywords\", []):\n",
    "        print(f\"  - {keyword['keyword']}\")\n"
   ]
  },
  {
   "cell_type": "code",
   "execution_count": 3,
   "id": "0523542e",
   "metadata": {},
   "outputs": [
    {
     "name": "stdout",
     "output_type": "stream",
     "text": [
      "Search Term: Male Shows Under $10\n",
      "\n",
      "Results:\n",
      "  Position: 1\n",
      "  Title: Shoes Under $10 - Amazon.com\n",
      "  URL: https://www.amazon.com/Shoes-Under-10/s?k=Shoes+Under+%2410\n",
      "  Description: Canvas Tennis Shoes for Men Low Top Casual White Black Sneakers for Men Lace Up Fashion Comfortable Walking Shoes · 4.24.2 out of 5 stars (133). 50 ...\n",
      "\n",
      "  Position: 2\n",
      "  Title: $10.00 - $19.99 Men's Shoes, Sandals, and Boots | Shoe Sensation\n",
      "  URL: https://www.shoesensation.com/men/filter/price:10-20.html?srsltid=AfmBOorK8thXIYpvB2hJSH5KsCf2IXCSKLQyOmr9TeDE2RRg1D6FWgq1\n",
      "  Description: Our men's selection showcases a wide range of top brand name shoes for men, including Adidas, Birkenstock, Brooks, Crocs, Fila, HEYDUDE, New Balance, ...\n",
      "\n",
      "  Position: 3\n",
      "  Title: Under $10 Mens Shoes - Kohl's\n",
      "  URL: https://www.kohls.com/catalog/under-10-mens-shoes.jsp?CN=Price:Under%20%2410+Gender:Mens+Department:Shoes\n",
      "  Description: Enjoy free shipping and easy returns every day at Kohl's. Find great deals on Under $10 Mens Shoes at Kohl's today!\n",
      "\n",
      "  Position: 4\n",
      "  Title: Shoes, Boots & Sandals for Men, Women & Kids Under $10\n",
      "  URL: https://www.samsclub.com/b/shoes/1090111?rootDimension=price%3A%5B0%20TO%2010%5D\n",
      "  Description: Shoes Under $10 · New Items in Shoes · Womens Shoes · Mens Shoes · Kids Shoes · Toddler Shoes. Prices may vary in club and online.\n",
      "\n",
      "  Position: 5\n",
      "  Title: Clearance Men's Footwear - Shoes - DICK'S Sporting Goods\n",
      "  URL: https://www.dickssportinggoods.com/f/clearance-mens-footwear?srsltid=AfmBOoqHWcl6t-W79yFDzcHUz1-azjicHvlEb3Qqrvejr7lBKQGqm0dN\n",
      "  Description: Shop Clearance Men's Footwear at DICK'S Sporting Goods. If you find a lower price on Clearance Men's Footwear somewhere else, we'll match it with our Best ...\n",
      "\n",
      "  Position: 6\n",
      "  Title: Men Shoes Sneakers Clearance Under $10 Men's Summer Solid ...\n",
      "  URL: https://www.walmart.ca/en/ip/Men-Shoes-Sneakers-Clearance-Under-10-Men-s-Summer-Solid-Color-Thick-Bottom-Mesh-Breathable-Casual-Comfort-Fashion-Slippers-Male-Shoes-Black-9-5/66OBX0VIB6SI\n",
      "  Description: Men Shoes Sneakers Clearance Under $10 Men's Summer Solid Color Thick Bottom Mesh Breathable Sneakers Casual Comfort Fashion Slippers Male Shoes(Black,9.5).\n",
      "\n",
      "  Position: 7\n",
      "  Title: Men's Shoes | Best Price at DICK'S\n",
      "  URL: https://www.dickssportinggoods.com/c/mens-footwear?srsltid=AfmBOopGN8pljaPsM7fjtLBYLaT5KptwmJqsMsqv4D1c1vdOOa2luzlk\n",
      "  Description: Find great prices on men's footwear at DICK'S. If you find a lower price on men's shoes somewhere else, we'll match it with our Best Price Guarantee. Can't find ...\n",
      "\n",
      "  Position: 8\n",
      "  Title: Trendy, Breathable & Comfortable latest male shoes - Alibaba.com\n",
      "  URL: https://www.alibaba.com/showroom/latest-male-shoes.html\n",
      "  Description: Hawaiian Style Fashion · Wholesale Fashion Latest Sport Wedge Slip On Walking Sneakers Male Casual Boys Men Shoes. $3.28-8.67. Min. order: 1 pair.\n",
      "\n",
      "  Position: 9\n",
      "  Title: Men's shoes on Sale - HeyDude!\n",
      "  URL: https://www.heydude.com/collections/clearance-men\n",
      "  Description: Men's Sale ; Price. $5 - $10 (8). $20 - $30 (13) ; Product Type. Men's Boat Shoes (1). Men's Boots (11) ; Type of Fit. Relaxed Fit (89). Classic Fit (41).\n",
      "\n",
      "  Position: 10\n",
      "  Title: Shows - Chicago - Hot Tix\n",
      "  URL: https://hottix.org/shows/\n",
      "  Description: Shows. 63 Half-Price Shows. Fun Home. Half-Price Tickets: $31.50 - $40. Dates From: Jan 23 - Jan 26. Porchlight Music Theatre at Ruth Page Center for the Arts.\n",
      "\n",
      "Related Keywords:\n",
      "  - male shoes under 1000\n",
      "  - what are the best cheap shoes\n",
      "  - men's shoes at lowest price\n",
      "  - mens shoes under $10\n",
      "  - men's shoes under $100\n",
      "  - men's shoes under 100 dollars\n"
     ]
    }
   ],
   "source": [
    "display_results(response.json())"
   ]
  },
  {
   "cell_type": "code",
   "execution_count": null,
   "id": "992ef871",
   "metadata": {},
   "outputs": [],
   "source": []
  }
 ],
 "metadata": {
  "kernelspec": {
   "display_name": "Python 3",
   "language": "python",
   "name": "python3"
  },
  "language_info": {
   "codemirror_mode": {
    "name": "ipython",
    "version": 3
   },
   "file_extension": ".py",
   "mimetype": "text/x-python",
   "name": "python",
   "nbconvert_exporter": "python",
   "pygments_lexer": "ipython3",
   "version": "3.8.16"
  }
 },
 "nbformat": 4,
 "nbformat_minor": 5
}
